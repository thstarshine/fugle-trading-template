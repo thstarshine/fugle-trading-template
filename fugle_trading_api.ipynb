{
  "nbformat": 4,
  "nbformat_minor": 0,
  "metadata": {
    "colab": {
      "name": "fugle_trading_api.ipynb",
      "provenance": []
    },
    "kernelspec": {
      "name": "python3",
      "display_name": "Python 3"
    },
    "language_info": {
      "name": "python"
    }
  },
  "cells": [
    {
      "cell_type": "code",
      "source": [
        "!pip install -i https://test.pypi.org/simple/ --extra-index-url https://pypi.org/simple fugle-trade==0.1.5"
      ],
      "metadata": {
        "id": "YYuMkRt46SjU"
      },
      "execution_count": null,
      "outputs": []
    },
    {
      "cell_type": "code",
      "source": [
        "from configparser import ConfigParser\n",
        "import pprint\n",
        "from fugle_trade.sdk import SDK\n",
        "from fugle_trade.order import OrderObject\n",
        "from fugle_trade.constant import (APCode, Trade, PriceFlag, BSFlag, Action)\n",
        "\n",
        "config = ConfigParser()\n",
        "config.read('./config.ini')\n",
        "sdk = SDK(config)\n",
        "\n",
        "pp = pprint.PrettyPrinter(indent=4)\n",
        "pp.pprint(sdk.get_machine_time())\n",
        "sdk.login()"
      ],
      "metadata": {
        "id": "_UHi38XB6K2c"
      },
      "execution_count": null,
      "outputs": []
    },
    {
      "cell_type": "code",
      "source": [
        "order = OrderObject(\n",
        "    buySell = Action.Buy,\n",
        "    price = 20.0,\n",
        "    stockNo = \"2884\",\n",
        "    quantity = 1,\n",
        "    apCode = APCode.Common\n",
        ")"
      ],
      "metadata": {
        "id": "jrw1LFKf6_3y"
      },
      "execution_count": null,
      "outputs": []
    },
    {
      "cell_type": "code",
      "source": [
        "sdk.certinfo()"
      ],
      "metadata": {
        "id": "k9Nm9B6h7EXF"
      },
      "execution_count": null,
      "outputs": []
    },
    {
      "cell_type": "code",
      "source": [
        "sdk.place_order(order)"
      ],
      "metadata": {
        "id": "negAX71R7fos"
      },
      "execution_count": null,
      "outputs": []
    },
    {
      "cell_type": "code",
      "source": [
        "sdk.get_order_result()"
      ],
      "metadata": {
        "id": "7QX48Zt-7qGM"
      },
      "execution_count": null,
      "outputs": []
    },
    {
      "cell_type": "code",
      "source": [
        ""
      ],
      "metadata": {
        "id": "DyvkdgyW7tCZ"
      },
      "execution_count": null,
      "outputs": []
    }
  ]
}
